{
 "cells": [
  {
   "metadata": {},
   "cell_type": "markdown",
   "source": [
    "## Projeto 1 – Previsão de Preços de Casas\n",
    "### Introdução\n",
    "O projeto consiste em prever o preço de casas a partir de atributos como área, número de quartos, localização, etc."
   ],
   "id": "4f3b4c065c131bcd"
  },
  {
   "metadata": {
    "collapsed": true,
    "ExecuteTime": {
     "end_time": "2025-09-16T23:10:42.427476Z",
     "start_time": "2025-09-16T23:10:37.852255Z"
    }
   },
   "cell_type": "code",
   "source": [
    "from time import process_time\n",
    "\n",
    "#Bibliotecas e ferramentas necessarias\n",
    "import pandas as pd\n",
    "\n",
    "from sklearn.model_selection import cross_val_score\n",
    "from sklearn.pipeline import Pipeline\n",
    "from sklearn.compose import ColumnTransformer\n",
    "from sklearn.preprocessing import OneHotEncoder\n",
    "from sklearn.impute import SimpleImputer\n",
    "from sklearn.ensemble import RandomForestRegressor"
   ],
   "id": "fe7ea20d307d5c07",
   "outputs": [],
   "execution_count": 1
  },
  {
   "metadata": {
    "ExecuteTime": {
     "end_time": "2025-09-16T23:13:52.368027Z",
     "start_time": "2025-09-16T23:13:52.307947Z"
    }
   },
   "cell_type": "code",
   "source": [
    "#Carregando os dados\n",
    "test = pd.read_csv('data/test.csv')\n",
    "train = pd.read_csv('data/train.csv')\n",
    "#print(train.head())\n",
    "print(train.shape)"
   ],
   "id": "25b3c3dd8dcbd33d",
   "outputs": [
    {
     "name": "stdout",
     "output_type": "stream",
     "text": [
      "(1460, 81)\n"
     ]
    }
   ],
   "execution_count": 6
  },
  {
   "metadata": {
    "ExecuteTime": {
     "end_time": "2025-09-16T23:21:19.690462Z",
     "start_time": "2025-09-16T23:21:19.681911Z"
    }
   },
   "cell_type": "code",
   "source": [
    "#Definindo alvo\n",
    "y = train['SalePrice']\n",
    "#Definindo feature\n",
    "X = train.drop(['Id', 'SalePrice'], axis=1)\n",
    "X_test = test.drop(['Id'], axis=1)"
   ],
   "id": "41f9dda1a81ff14b",
   "outputs": [],
   "execution_count": 8
  },
  {
   "metadata": {
    "ExecuteTime": {
     "end_time": "2025-09-16T23:34:31.090413Z",
     "start_time": "2025-09-16T23:34:31.082922Z"
    }
   },
   "cell_type": "code",
   "source": [
    "#Separando colunas categóricas\n",
    "categoric_cols = X.select_dtypes(include=[\"object\"]).columns\n",
    "#Coluns numericas\n",
    "numeric_cols = X.select_dtypes(include=[\"int64\", \"float64\"]).columns"
   ],
   "id": "b05575886c268f29",
   "outputs": [],
   "execution_count": 13
  },
  {
   "metadata": {
    "ExecuteTime": {
     "end_time": "2025-09-16T23:34:17.029461Z",
     "start_time": "2025-09-16T23:34:17.018514Z"
    }
   },
   "cell_type": "code",
   "source": [
    "#verificando se as colunas categoricas possuem baixa cardinalidade\n",
    "for col in categoric_cols:\n",
    "    print(f\"{col}:{X[col].nunique()} categorias\")"
   ],
   "id": "fc939a297b731bcc",
   "outputs": [
    {
     "name": "stdout",
     "output_type": "stream",
     "text": [
      "MSZoning:5 categorias\n",
      "Street:2 categorias\n",
      "Alley:2 categorias\n",
      "LotShape:4 categorias\n",
      "LandContour:4 categorias\n",
      "Utilities:2 categorias\n",
      "LotConfig:5 categorias\n",
      "LandSlope:3 categorias\n",
      "Neighborhood:25 categorias\n",
      "Condition1:9 categorias\n",
      "Condition2:8 categorias\n",
      "BldgType:5 categorias\n",
      "HouseStyle:8 categorias\n",
      "RoofStyle:6 categorias\n",
      "RoofMatl:8 categorias\n",
      "Exterior1st:15 categorias\n",
      "Exterior2nd:16 categorias\n",
      "MasVnrType:3 categorias\n",
      "ExterQual:4 categorias\n",
      "ExterCond:5 categorias\n",
      "Foundation:6 categorias\n",
      "BsmtQual:4 categorias\n",
      "BsmtCond:4 categorias\n",
      "BsmtExposure:4 categorias\n",
      "BsmtFinType1:6 categorias\n",
      "BsmtFinType2:6 categorias\n",
      "Heating:6 categorias\n",
      "HeatingQC:5 categorias\n",
      "CentralAir:2 categorias\n",
      "Electrical:5 categorias\n",
      "KitchenQual:4 categorias\n",
      "Functional:7 categorias\n",
      "FireplaceQu:5 categorias\n",
      "GarageType:6 categorias\n",
      "GarageFinish:3 categorias\n",
      "GarageQual:5 categorias\n",
      "GarageCond:5 categorias\n",
      "PavedDrive:3 categorias\n",
      "PoolQC:3 categorias\n",
      "Fence:4 categorias\n",
      "MiscFeature:4 categorias\n",
      "SaleType:9 categorias\n",
      "SaleCondition:6 categorias\n"
     ]
    }
   ],
   "execution_count": 12
  },
  {
   "metadata": {
    "ExecuteTime": {
     "end_time": "2025-09-16T23:42:30.455430Z",
     "start_time": "2025-09-16T23:42:30.449253Z"
    }
   },
   "cell_type": "code",
   "source": [
    "# transformador para cols numéricas: substitui valores faltantes pela mediana\n",
    "numeric_transformer = SimpleImputer(strategy=\"median\")\n",
    "# transformador para cols categoricas : substitui valores faltantes pelo mais frequente\n",
    "categoric_transformer = Pipeline(steps=[\n",
    "    ('imputer', SimpleImputer(strategy='most_frequent')),\n",
    "    ('onehot', OneHotEncoder(handle_unknown=\"ignore\"))\n",
    "])"
   ],
   "id": "f7e7d45f89ff73bc",
   "outputs": [],
   "execution_count": 15
  },
  {
   "metadata": {
    "ExecuteTime": {
     "end_time": "2025-09-16T23:42:31.753445Z",
     "start_time": "2025-09-16T23:42:31.747497Z"
    }
   },
   "cell_type": "code",
   "source": [
    "# juntando tudo\n",
    "preprocessor = ColumnTransformer(\n",
    "    transformers=[\n",
    "        ('num', numeric_transformer, numeric_cols),\n",
    "        ('cat', categoric_transformer, categoric_cols)\n",
    "    ]\n",
    ")"
   ],
   "id": "c6481aede010285b",
   "outputs": [],
   "execution_count": 16
  },
  {
   "metadata": {
    "ExecuteTime": {
     "end_time": "2025-09-16T23:48:46.832414Z",
     "start_time": "2025-09-16T23:48:46.815515Z"
    }
   },
   "cell_type": "code",
   "source": [
    "#Minha pipeline\n",
    "modelo = Pipeline(steps=[\n",
    "    ('preprocessor', preprocessor),\n",
    "    ('randomforest', RandomForestRegressor(n_estimators=100, random_state=0)),\n",
    "])"
   ],
   "id": "a8552e924f4996de",
   "outputs": [],
   "execution_count": 18
  },
  {
   "metadata": {
    "ExecuteTime": {
     "end_time": "2025-09-16T23:52:58.455832Z",
     "start_time": "2025-09-16T23:51:53.185241Z"
    }
   },
   "cell_type": "code",
   "source": [
    "#cross-validation usando MAE\n",
    "from sklearn.metrics import mean_squared_error\n",
    "score = -1*cross_val_score(modelo, X, y, cv=5, scoring='neg_mean_absolute_error')\n",
    "print(f\"MAE por folds: {score}\"\n",
    "      f\"\\nMAE medio: {score.mean():.4f}\")"
   ],
   "id": "70ca38edce891d50",
   "outputs": [
    {
     "name": "stdout",
     "output_type": "stream",
     "text": [
      "MAE por folds: [17972.48914384 17444.72544521 17775.83342466 16271.63674658\n",
      " 19033.2214726 ]\n",
      "MAE medio: 17699.5812\n"
     ]
    }
   ],
   "execution_count": 20
  },
  {
   "metadata": {
    "ExecuteTime": {
     "end_time": "2025-09-17T00:02:44.714047Z",
     "start_time": "2025-09-17T00:02:23.718959Z"
    }
   },
   "cell_type": "code",
   "source": [
    "#Treinando o modelo final e prevendo no test\n",
    "modelo.fit(X, y)\n",
    "previsao = modelo.predict(X_test)\n",
    "saida = pd.DataFrame({\"Id\":test['Id'], \"SalePrice\":previsao})\n",
    "saida.to_csv(\"previsoes.csv\", index=False)\n",
    "print(\"Arquivo previsoes.csv criado!\")"
   ],
   "id": "8db0e840a053d42f",
   "outputs": [
    {
     "name": "stdout",
     "output_type": "stream",
     "text": [
      "Arquivo previsoes.csv criado!\n"
     ]
    }
   ],
   "execution_count": 22
  }
 ],
 "metadata": {
  "kernelspec": {
   "display_name": "Python 3",
   "language": "python",
   "name": "python3"
  },
  "language_info": {
   "codemirror_mode": {
    "name": "ipython",
    "version": 2
   },
   "file_extension": ".py",
   "mimetype": "text/x-python",
   "name": "python",
   "nbconvert_exporter": "python",
   "pygments_lexer": "ipython2",
   "version": "2.7.6"
  }
 },
 "nbformat": 4,
 "nbformat_minor": 5
}
