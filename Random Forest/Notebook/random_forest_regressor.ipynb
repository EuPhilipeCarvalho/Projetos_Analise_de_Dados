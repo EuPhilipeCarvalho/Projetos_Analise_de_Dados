{
 "cells": [
  {
   "metadata": {},
   "cell_type": "markdown",
   "source": [
    "# 🏡 Predição de Preços de Casas com Random Forest\n",
    "\n",
    "Este notebook aplica **Machine Learning (Regressão)** para prever preços de imóveis usando o dataset `train.csv`.\n",
    "O modelo principal é o **Random Forest Regressor**, comparado com o **Decision Tree Regressor**.\n"
   ],
   "id": "31cb00d467ca84c0"
  },
  {
   "metadata": {},
   "cell_type": "markdown",
   "source": "",
   "id": "11e20ebcbd49f29c"
  },
  {
   "metadata": {
    "ExecuteTime": {
     "end_time": "2025-08-29T20:28:52.389005Z",
     "start_time": "2025-08-29T20:28:52.326283Z"
    }
   },
   "cell_type": "code",
   "source": [
    "#Bibliotecas e ferramentas necessarias\n",
    "import pandas as pd\n",
    "from sklearn.model_selection import train_test_split\n",
    "from sklearn.ensemble import RandomForestRegressor\n",
    "from sklearn.metrics import mean_absolute_error\n",
    "from sklearn.tree import DecisionTreeRegressor\n",
    "\n",
    "# Carregar dataset\n",
    "df = pd.read_csv(\"../Dados/train.csv\")\n",
    "\n",
    "# Preenchendo dados vazios\n",
    "colunas_numericas = df.select_dtypes(include=['int64', 'float64']).columns\n",
    "colunas_categoricas = df.select_dtypes(include=['object']).columns\n",
    "df[colunas_numericas] = df[colunas_numericas].fillna(0)\n",
    "df[colunas_categoricas] = df[colunas_categoricas].fillna('Desconhecido')\n",
    "\n",
    "df.head()\n"
   ],
   "id": "4a53f3ffd0979cba",
   "outputs": [
    {
     "data": {
      "text/plain": [
       "   Id  MSSubClass MSZoning  LotFrontage  LotArea Street         Alley  \\\n",
       "0   1          60       RL         65.0     8450   Pave  Desconhecido   \n",
       "1   2          20       RL         80.0     9600   Pave  Desconhecido   \n",
       "2   3          60       RL         68.0    11250   Pave  Desconhecido   \n",
       "3   4          70       RL         60.0     9550   Pave  Desconhecido   \n",
       "4   5          60       RL         84.0    14260   Pave  Desconhecido   \n",
       "\n",
       "  LotShape LandContour Utilities  ... PoolArea        PoolQC         Fence  \\\n",
       "0      Reg         Lvl    AllPub  ...        0  Desconhecido  Desconhecido   \n",
       "1      Reg         Lvl    AllPub  ...        0  Desconhecido  Desconhecido   \n",
       "2      IR1         Lvl    AllPub  ...        0  Desconhecido  Desconhecido   \n",
       "3      IR1         Lvl    AllPub  ...        0  Desconhecido  Desconhecido   \n",
       "4      IR1         Lvl    AllPub  ...        0  Desconhecido  Desconhecido   \n",
       "\n",
       "    MiscFeature MiscVal MoSold YrSold  SaleType  SaleCondition  SalePrice  \n",
       "0  Desconhecido       0      2   2008        WD         Normal     208500  \n",
       "1  Desconhecido       0      5   2007        WD         Normal     181500  \n",
       "2  Desconhecido       0      9   2008        WD         Normal     223500  \n",
       "3  Desconhecido       0      2   2006        WD        Abnorml     140000  \n",
       "4  Desconhecido       0     12   2008        WD         Normal     250000  \n",
       "\n",
       "[5 rows x 81 columns]"
      ],
      "text/html": [
       "<div>\n",
       "<style scoped>\n",
       "    .dataframe tbody tr th:only-of-type {\n",
       "        vertical-align: middle;\n",
       "    }\n",
       "\n",
       "    .dataframe tbody tr th {\n",
       "        vertical-align: top;\n",
       "    }\n",
       "\n",
       "    .dataframe thead th {\n",
       "        text-align: right;\n",
       "    }\n",
       "</style>\n",
       "<table border=\"1\" class=\"dataframe\">\n",
       "  <thead>\n",
       "    <tr style=\"text-align: right;\">\n",
       "      <th></th>\n",
       "      <th>Id</th>\n",
       "      <th>MSSubClass</th>\n",
       "      <th>MSZoning</th>\n",
       "      <th>LotFrontage</th>\n",
       "      <th>LotArea</th>\n",
       "      <th>Street</th>\n",
       "      <th>Alley</th>\n",
       "      <th>LotShape</th>\n",
       "      <th>LandContour</th>\n",
       "      <th>Utilities</th>\n",
       "      <th>...</th>\n",
       "      <th>PoolArea</th>\n",
       "      <th>PoolQC</th>\n",
       "      <th>Fence</th>\n",
       "      <th>MiscFeature</th>\n",
       "      <th>MiscVal</th>\n",
       "      <th>MoSold</th>\n",
       "      <th>YrSold</th>\n",
       "      <th>SaleType</th>\n",
       "      <th>SaleCondition</th>\n",
       "      <th>SalePrice</th>\n",
       "    </tr>\n",
       "  </thead>\n",
       "  <tbody>\n",
       "    <tr>\n",
       "      <th>0</th>\n",
       "      <td>1</td>\n",
       "      <td>60</td>\n",
       "      <td>RL</td>\n",
       "      <td>65.0</td>\n",
       "      <td>8450</td>\n",
       "      <td>Pave</td>\n",
       "      <td>Desconhecido</td>\n",
       "      <td>Reg</td>\n",
       "      <td>Lvl</td>\n",
       "      <td>AllPub</td>\n",
       "      <td>...</td>\n",
       "      <td>0</td>\n",
       "      <td>Desconhecido</td>\n",
       "      <td>Desconhecido</td>\n",
       "      <td>Desconhecido</td>\n",
       "      <td>0</td>\n",
       "      <td>2</td>\n",
       "      <td>2008</td>\n",
       "      <td>WD</td>\n",
       "      <td>Normal</td>\n",
       "      <td>208500</td>\n",
       "    </tr>\n",
       "    <tr>\n",
       "      <th>1</th>\n",
       "      <td>2</td>\n",
       "      <td>20</td>\n",
       "      <td>RL</td>\n",
       "      <td>80.0</td>\n",
       "      <td>9600</td>\n",
       "      <td>Pave</td>\n",
       "      <td>Desconhecido</td>\n",
       "      <td>Reg</td>\n",
       "      <td>Lvl</td>\n",
       "      <td>AllPub</td>\n",
       "      <td>...</td>\n",
       "      <td>0</td>\n",
       "      <td>Desconhecido</td>\n",
       "      <td>Desconhecido</td>\n",
       "      <td>Desconhecido</td>\n",
       "      <td>0</td>\n",
       "      <td>5</td>\n",
       "      <td>2007</td>\n",
       "      <td>WD</td>\n",
       "      <td>Normal</td>\n",
       "      <td>181500</td>\n",
       "    </tr>\n",
       "    <tr>\n",
       "      <th>2</th>\n",
       "      <td>3</td>\n",
       "      <td>60</td>\n",
       "      <td>RL</td>\n",
       "      <td>68.0</td>\n",
       "      <td>11250</td>\n",
       "      <td>Pave</td>\n",
       "      <td>Desconhecido</td>\n",
       "      <td>IR1</td>\n",
       "      <td>Lvl</td>\n",
       "      <td>AllPub</td>\n",
       "      <td>...</td>\n",
       "      <td>0</td>\n",
       "      <td>Desconhecido</td>\n",
       "      <td>Desconhecido</td>\n",
       "      <td>Desconhecido</td>\n",
       "      <td>0</td>\n",
       "      <td>9</td>\n",
       "      <td>2008</td>\n",
       "      <td>WD</td>\n",
       "      <td>Normal</td>\n",
       "      <td>223500</td>\n",
       "    </tr>\n",
       "    <tr>\n",
       "      <th>3</th>\n",
       "      <td>4</td>\n",
       "      <td>70</td>\n",
       "      <td>RL</td>\n",
       "      <td>60.0</td>\n",
       "      <td>9550</td>\n",
       "      <td>Pave</td>\n",
       "      <td>Desconhecido</td>\n",
       "      <td>IR1</td>\n",
       "      <td>Lvl</td>\n",
       "      <td>AllPub</td>\n",
       "      <td>...</td>\n",
       "      <td>0</td>\n",
       "      <td>Desconhecido</td>\n",
       "      <td>Desconhecido</td>\n",
       "      <td>Desconhecido</td>\n",
       "      <td>0</td>\n",
       "      <td>2</td>\n",
       "      <td>2006</td>\n",
       "      <td>WD</td>\n",
       "      <td>Abnorml</td>\n",
       "      <td>140000</td>\n",
       "    </tr>\n",
       "    <tr>\n",
       "      <th>4</th>\n",
       "      <td>5</td>\n",
       "      <td>60</td>\n",
       "      <td>RL</td>\n",
       "      <td>84.0</td>\n",
       "      <td>14260</td>\n",
       "      <td>Pave</td>\n",
       "      <td>Desconhecido</td>\n",
       "      <td>IR1</td>\n",
       "      <td>Lvl</td>\n",
       "      <td>AllPub</td>\n",
       "      <td>...</td>\n",
       "      <td>0</td>\n",
       "      <td>Desconhecido</td>\n",
       "      <td>Desconhecido</td>\n",
       "      <td>Desconhecido</td>\n",
       "      <td>0</td>\n",
       "      <td>12</td>\n",
       "      <td>2008</td>\n",
       "      <td>WD</td>\n",
       "      <td>Normal</td>\n",
       "      <td>250000</td>\n",
       "    </tr>\n",
       "  </tbody>\n",
       "</table>\n",
       "<p>5 rows × 81 columns</p>\n",
       "</div>"
      ]
     },
     "execution_count": 9,
     "metadata": {},
     "output_type": "execute_result"
    }
   ],
   "execution_count": 9
  },
  {
   "metadata": {
    "ExecuteTime": {
     "end_time": "2025-08-29T20:28:55.813417Z",
     "start_time": "2025-08-29T20:28:55.803304Z"
    }
   },
   "cell_type": "code",
   "source": [
    "#Definindo feauture e target\n",
    "y = df.SalePrice\n",
    "colunas_features = [\"LotArea\", \"YearBuilt\", \"1stFlrSF\", \"2ndFlrSF\",\n",
    "                   \"FullBath\", \"BedroomAbvGr\", \"TotRmsAbvGrd\"]\n",
    "X = df[colunas_features]\n",
    "\n",
    "train_X, val_X, train_y, val_y = train_test_split(X, y, random_state=1)\n"
   ],
   "id": "6f16767c0513f3a",
   "outputs": [],
   "execution_count": 10
  },
  {
   "metadata": {
    "ExecuteTime": {
     "end_time": "2025-08-29T20:28:58.546258Z",
     "start_time": "2025-08-29T20:28:57.770918Z"
    }
   },
   "cell_type": "code",
   "source": [
    "#Elaborando modelos\n",
    "modelo_rf = RandomForestRegressor(random_state=1)\n",
    "modelo_rf.fit(train_X, train_y)\n",
    "\n",
    "previsao_rf = modelo_rf.predict(val_X)\n",
    "mae_rf = mean_absolute_error(val_y, previsao_rf)\n",
    "\n",
    "print(f\"Random Forest MAE: {mae_rf:.2f}\")\n"
   ],
   "id": "57e4fdcaa503cc7",
   "outputs": [
    {
     "name": "stdout",
     "output_type": "stream",
     "text": [
      "Random Forest MAE: 21857.16\n"
     ]
    }
   ],
   "execution_count": 11
  },
  {
   "metadata": {
    "ExecuteTime": {
     "end_time": "2025-08-29T20:35:07.842812Z",
     "start_time": "2025-08-29T20:35:07.497353Z"
    }
   },
   "cell_type": "code",
   "source": [
    "#Modelo de DecisionTree para comparcao\n",
    "def get_mae(n_leaves, train_X, val_X, train_y, val_y):\n",
    "    modelo_dt = DecisionTreeRegressor(max_leaf_nodes=n_leaves, random_state=1)\n",
    "    modelo_dt.fit(train_X, train_y)\n",
    "    previsao_dt = modelo_dt.predict(val_X)\n",
    "    return mean_absolute_error(val_y, previsao_dt)\n",
    "\n",
    "folhas = [5, 50, 500, 5000]\n",
    "scores = {n: get_mae(n, train_X, val_X, train_y, val_y) for n in folhas}\n",
    "\n",
    "for leaves, mae in scores.items():\n",
    "    print(f\"Leaves: {leaves}, MAE: {mae:.2f}\")\n",
    "\n",
    "# Plotar o gráfico\n",
    "import matplotlib.pyplot as plt\n",
    "\n",
    "plt.plot(list(scores.keys()), list(scores.values()), marker=\"o\")\n",
    "plt.title(\"Performance da Decision Tree\")\n",
    "plt.xlabel(\"Número de folhas (max_leaf_nodes)\")\n",
    "plt.ylabel(\"Mean Absolute Error (MAE)\")\n",
    "plt.show()"
   ],
   "id": "a27e9f2b6a1eb143",
   "outputs": [
    {
     "name": "stdout",
     "output_type": "stream",
     "text": [
      "Leaves: 5, MAE: 35044.51\n",
      "Leaves: 50, MAE: 27405.93\n",
      "Leaves: 500, MAE: 28357.63\n",
      "Leaves: 5000, MAE: 28942.76\n"
     ]
    },
    {
     "data": {
      "text/plain": [
       "<Figure size 640x480 with 1 Axes>"
      ],
      "image/png": "[encoded data removed]"
     },
     "metadata": {},
     "output_type": "display_data"
    }
   ],
   "execution_count": 14
  },
  {
   "metadata": {},
   "cell_type": "markdown",
   "source": [
    "## 🔎 Análise dos Resultados\n",
    "\n",
    "- A árvore de decisão com **50 folhas** teve o melhor desempenho, com o menor mean absolute error (MAE).\n",
    "- Isso acontece porque existe um **equilíbrio** entre modelos muito simples (poucas folhas → underfitting) e muito complexos (muitas folhas → overfitting).\n",
    "- O **Random Forest** ainda tende a generalizar melhor, mas neste caso, a **árvore de 50 folhas** chegou muito próxima.\n",
    "\n",
    "➡️ Este comportamento é um exemplo clássico do **trade-off viés x variância**:\n",
    "- **Underfitting (alto viés):** modelo simples, não aprende bem os padrões.\n",
    "- **Overfitting (alta variância):** modelo complexo demais, memoriza os dados.\n",
    "- **Equilíbrio:** encontramos um ponto intermediário (neste caso, ~50 folhas).\n",
    "\n",
    "\n"
   ],
   "id": "c0092e7fa63043d"
  }
 ],
 "metadata": {
  "kernelspec": {
   "display_name": "Python 3",
   "language": "python",
   "name": "python3"
  },
  "language_info": {
   "codemirror_mode": {
    "name": "ipython",
    "version": 2
   },
   "file_extension": ".py",
   "mimetype": "text/x-python",
   "name": "python",
   "nbconvert_exporter": "python",
   "pygments_lexer": "ipython2",
   "version": "2.7.6"
  }
 },
 "nbformat": 4,
 "nbformat_minor": 5
}
