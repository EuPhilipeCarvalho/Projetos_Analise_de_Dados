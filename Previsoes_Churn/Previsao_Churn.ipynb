{
 "cells": [
  {
   "metadata": {},
   "cell_type": "markdown",
   "source": "## Projeto Previsão de Churn com Telco Customer Churn",
   "id": "520505ac0ded6302"
  },
  {
   "metadata": {
    "collapsed": true,
    "ExecuteTime": {
     "end_time": "2025-09-17T17:57:29.595066Z",
     "start_time": "2025-09-17T17:57:29.558796Z"
    }
   },
   "cell_type": "code",
   "source": [
    "import pandas as pd\n",
    "from sklearn.linear_model import LogisticRegression\n",
    "\n",
    "from sklearn.model_selection import train_test_split, cross_val_score\n",
    "from sklearn.pipeline import Pipeline\n",
    "from sklearn.compose import ColumnTransformer\n",
    "from sklearn.preprocessing import OneHotEncoder, StandardScaler\n",
    "from sklearn.ensemble import RandomForestClassifier\n",
    "from sklearn.metrics import classification_report, confusion_matrix, roc_auc_score\n",
    "\n",
    "#Carregando os dados\n",
    "df = pd.read_csv('data/WA_Fn-UseC_-Telco-Customer-Churn.csv')\n",
    "#print(df.head())\n",
    "print(df.shape)"
   ],
   "id": "e82b4dfade80279",
   "outputs": [
    {
     "name": "stdout",
     "output_type": "stream",
     "text": [
      "(7043, 21)\n"
     ]
    }
   ],
   "execution_count": 19
  },
  {
   "metadata": {},
   "cell_type": "markdown",
   "source": "### Entendendo os dados",
   "id": "2866f890b225043a"
  },
  {
   "metadata": {
    "ExecuteTime": {
     "end_time": "2025-09-17T17:57:29.618280Z",
     "start_time": "2025-09-17T17:57:29.603277Z"
    }
   },
   "cell_type": "code",
   "source": [
    "#Valores nulos\n",
    "print(df.isnull().sum())\n",
    "#Removendo a coluna id\n",
    "df = df.drop(['customerID'], axis=1)"
   ],
   "id": "7fc54f3d2dbcaac3",
   "outputs": [
    {
     "name": "stdout",
     "output_type": "stream",
     "text": [
      "customerID          0\n",
      "gender              0\n",
      "SeniorCitizen       0\n",
      "Partner             0\n",
      "Dependents          0\n",
      "tenure              0\n",
      "PhoneService        0\n",
      "MultipleLines       0\n",
      "InternetService     0\n",
      "OnlineSecurity      0\n",
      "OnlineBackup        0\n",
      "DeviceProtection    0\n",
      "TechSupport         0\n",
      "StreamingTV         0\n",
      "StreamingMovies     0\n",
      "Contract            0\n",
      "PaperlessBilling    0\n",
      "PaymentMethod       0\n",
      "MonthlyCharges      0\n",
      "TotalCharges        0\n",
      "Churn               0\n",
      "dtype: int64\n"
     ]
    }
   ],
   "execution_count": 20
  },
  {
   "metadata": {},
   "cell_type": "markdown",
   "source": "### Analisando a variável alvo e os tipos de variáveis",
   "id": "2906bbd96cad2ec3"
  },
  {
   "metadata": {
    "ExecuteTime": {
     "end_time": "2025-09-17T17:57:29.640862Z",
     "start_time": "2025-09-17T17:57:29.629353Z"
    }
   },
   "cell_type": "code",
   "source": [
    "#Frequencia do Churn\n",
    "print(df['Churn'].value_counts(normalize=True))\n",
    "# Convertendo o alvo para binario\n",
    "df['Churn'] = df['Churn'].map({'No':0, 'Yes':1})\n",
    "#Colunas categoricas e numericas\n",
    "numeric_col = ['tenure', 'MonthlyCharges', 'TotalCharges']\n",
    "cat_cols = [col for col in df.columns if df[col].dtype == 'object' and col not in numeric_col + ['Churn']]\n",
    "print(f\"\\nColunas Categoricas: {cat_cols}\\n\")\n",
    "print(f\"Colunas Numericas: {numeric_col}\")"
   ],
   "id": "26dc0d3d9d736521",
   "outputs": [
    {
     "name": "stdout",
     "output_type": "stream",
     "text": [
      "Churn\n",
      "No     0.73463\n",
      "Yes    0.26537\n",
      "Name: proportion, dtype: float64\n",
      "\n",
      "Colunas Categoricas: ['gender', 'Partner', 'Dependents', 'PhoneService', 'MultipleLines', 'InternetService', 'OnlineSecurity', 'OnlineBackup', 'DeviceProtection', 'TechSupport', 'StreamingTV', 'StreamingMovies', 'Contract', 'PaperlessBilling', 'PaymentMethod']\n",
      "\n",
      "Colunas Numericas: ['tenure', 'MonthlyCharges', 'TotalCharges']\n"
     ]
    }
   ],
   "execution_count": 21
  },
  {
   "metadata": {},
   "cell_type": "markdown",
   "source": "### Separando alvo e feature",
   "id": "a590a182707ffa17"
  },
  {
   "metadata": {
    "ExecuteTime": {
     "end_time": "2025-09-17T17:57:29.665380Z",
     "start_time": "2025-09-17T17:57:29.650854Z"
    }
   },
   "cell_type": "code",
   "source": [
    "#Corrigindo a coluna TotalCharges\n",
    "df['TotalCharges'] = pd.to_numeric(df['TotalCharges'], errors='coerce')\n",
    "df['TotalCharges'] = df['TotalCharges'].fillna(df['TotalCharges'].median())\n",
    "#alvo e feature\n",
    "y = df['Churn']\n",
    "X = df.drop(['Churn'], axis=1)"
   ],
   "id": "fb2613184bc1ccb2",
   "outputs": [],
   "execution_count": 22
  },
  {
   "metadata": {},
   "cell_type": "markdown",
   "source": "### Distribuicao do Churn entre as classes",
   "id": "b227ff52b5bfe450"
  },
  {
   "metadata": {
    "ExecuteTime": {
     "end_time": "2025-09-17T17:57:29.849419Z",
     "start_time": "2025-09-17T17:57:29.677887Z"
    }
   },
   "cell_type": "code",
   "source": [
    "import matplotlib.pyplot as plt\n",
    "# Distribuição da variável alvo\n",
    "plt.figure(figsize=(6,4))\n",
    "df['Churn'].value_counts(normalize=True).plot(kind='bar', color=['skyblue', 'salmon'])\n",
    "plt.title(\"Distribuição da variável alvo (Churn)\")\n",
    "plt.ylabel(\"Proporção\")\n",
    "plt.xlabel(\"Churn\")\n",
    "plt.xticks(rotation=0)\n",
    "plt.tight_layout()\n",
    "plt.show()\n"
   ],
   "id": "617707cfb9bd860",
   "outputs": [
    {
     "data": {
      "text/plain": [
       "<Figure size 600x400 with 1 Axes>"
      ],
      "image/png": "[encoded data removed]"
     },
     "metadata": {},
     "output_type": "display_data"
    }
   ],
   "execution_count": 23
  },
  {
   "metadata": {
    "ExecuteTime": {
     "end_time": "2025-09-17T17:57:29.883448Z",
     "start_time": "2025-09-17T17:57:29.873614Z"
    }
   },
   "cell_type": "code",
   "source": [
    "#Dados de treino e validacao\n",
    "X_train, X_val, y_train, y_val = train_test_split(X, y, test_size=0.2, random_state=0)"
   ],
   "id": "b51b7374b85e754f",
   "outputs": [],
   "execution_count": 24
  },
  {
   "metadata": {
    "ExecuteTime": {
     "end_time": "2025-09-17T17:57:29.902019Z",
     "start_time": "2025-09-17T17:57:29.894442Z"
    }
   },
   "cell_type": "code",
   "source": [
    "#Com o StandardScaler, o modelo decide de forma justa qual é mais importante.\n",
    "numeric_transformer = StandardScaler()\n",
    "categorical_transformer = OneHotEncoder(handle_unknown='ignore')\n",
    "#juntando os transformadores\n",
    "preprocessor = ColumnTransformer(\n",
    "    transformers=[\n",
    "    ('num', numeric_transformer, numeric_col),\n",
    "    ('cat', categorical_transformer, cat_cols)\n",
    "])"
   ],
   "id": "17aac1022ae71814",
   "outputs": [],
   "execution_count": 25
  },
  {
   "metadata": {
    "ExecuteTime": {
     "end_time": "2025-09-17T17:57:30.806185Z",
     "start_time": "2025-09-17T17:57:29.913014Z"
    }
   },
   "cell_type": "code",
   "source": [
    "#Pipeline\n",
    "minha_pipe = Pipeline(\n",
    "    steps=[\n",
    "        ('preprocessor', preprocessor),\n",
    "        ('classifier', RandomForestClassifier(random_state=0))\n",
    "    ])\n",
    "#Treinar o modelo\n",
    "minha_pipe.fit(X_train, y_train)\n",
    "#Previsao\n",
    "predict = minha_pipe.predict(X_val)"
   ],
   "id": "81abf1edaf395b26",
   "outputs": [],
   "execution_count": 26
  },
  {
   "metadata": {},
   "cell_type": "markdown",
   "source": "### Avaliando o modelo",
   "id": "2bc1cd342cd92eee"
  },
  {
   "metadata": {
    "ExecuteTime": {
     "end_time": "2025-09-17T17:57:30.841863Z",
     "start_time": "2025-09-17T17:57:30.823845Z"
    }
   },
   "cell_type": "code",
   "source": [
    "#Avaliar\n",
    "print(\"\\n== Classificaco ==\\n\")\n",
    "print(classification_report(y_val, predict))"
   ],
   "id": "d01f91d8f5e5b0d4",
   "outputs": [
    {
     "name": "stdout",
     "output_type": "stream",
     "text": [
      "\n",
      "== Classificaco ==\n",
      "\n",
      "              precision    recall  f1-score   support\n",
      "\n",
      "           0       0.83      0.89      0.86      1041\n",
      "           1       0.61      0.47      0.53       368\n",
      "\n",
      "    accuracy                           0.78      1409\n",
      "   macro avg       0.72      0.68      0.70      1409\n",
      "weighted avg       0.77      0.78      0.77      1409\n",
      "\n"
     ]
    }
   ],
   "execution_count": 27
  },
  {
   "metadata": {},
   "cell_type": "markdown",
   "source": [
    "#### Resumo do ```classification_report(y_val, predict)```\n",
    "\n",
    "- precision → Pessoas que o modelo avisou que iam cancelar, quantas realmente cancelaram.\n",
    "\n",
    "- recall → Pessoas que realmente cancelaram, quantas o modelo consehuiu avisar.\n",
    "\n",
    "- f1-score → Desempenho geral equilibrando precisão e recall.\n",
    "\n",
    "- support → Quantas pessoas realmente estavam em cada grupo/classe (cancelou/não cancelou).\n"
   ],
   "id": "4ed4adb541da81f3"
  },
  {
   "metadata": {
    "ExecuteTime": {
     "end_time": "2025-09-17T17:57:30.862773Z",
     "start_time": "2025-09-17T17:57:30.852856Z"
    }
   },
   "cell_type": "code",
   "source": [
    "print(confusion_matrix(y_val, predict))\n",
    "cm = confusion_matrix(y_val, predict)\n",
    "TN, FN, FP, TP = cm.ravel()\n",
    "# Gerar a string em formato Markdown\n",
    "tabela_markdown = f\"\"\"\n",
    "|                  | Previsto = 0 | Previsto = 1 |\n",
    "|------------------|--------------|--------------|\n",
    "| Real = 0 (ficou) | {TN} (TN)    | {FP} (FP)    |\n",
    "| Real = 1 (saiu)  | {FN} (FN)    | {TP} (TP)    |\n",
    "\"\"\"\n",
    "print(tabela_markdown)"
   ],
   "id": "67cafc83a5b0c380",
   "outputs": [
    {
     "name": "stdout",
     "output_type": "stream",
     "text": [
      "[[931 110]\n",
      " [194 174]]\n",
      "\n",
      "|                  | Previsto = 0 | Previsto = 1 |\n",
      "|------------------|--------------|--------------|\n",
      "| Real = 0 (ficou) | 931 (TN)    | 194 (FP)    |\n",
      "| Real = 1 (saiu)  | 110 (FN)    | 174 (TP)    |\n",
      "\n"
     ]
    }
   ],
   "execution_count": 28
  },
  {
   "metadata": {},
   "cell_type": "markdown",
   "source": [
    "#### Como interpretar:\n",
    "\n",
    "- TN (True Negative) → 931 clientes ficaram, e o modelo previu “ficou”\n",
    "- FP (False Positive) → 194 clientes ficaram, mas o modelo disse “saiu”\n",
    "- FN (False Negative) → 110 clientes saíram, mas o modelo disse “ficou”\n",
    "- TP (True Positive) → 174 clientes saíram, e o modelo previu “saiu”"
   ],
   "id": "7e9c9885d62ce5d7"
  },
  {
   "metadata": {
    "ExecuteTime": {
     "end_time": "2025-09-17T17:57:30.888327Z",
     "start_time": "2025-09-17T17:57:30.879557Z"
    }
   },
   "cell_type": "code",
   "source": "print(f\"\\nROC AUC: {roc_auc_score(y_val, predict):.5f}\")",
   "id": "71e9b82b280addeb",
   "outputs": [
    {
     "name": "stdout",
     "output_type": "stream",
     "text": [
      "\n",
      "ROC AUC: 0.68358\n"
     ]
    }
   ],
   "execution_count": 29
  },
  {
   "metadata": {},
   "cell_type": "markdown",
   "source": [
    " #### Explicacao do ROC AUC\n",
    "\n",
    "O ROC AUC (Receiver Operating Characteristic - Area Under Curve). Ele mede a capacidade do modelo de separar as classes.\n",
    "Valores típicos:\n",
    "- 0.5 → modelo aleatório (chutar cara ou coroa).\n",
    "- 0.7–0.8 → modelo razoável.\n",
    "- 0.8–0.9 → modelo bom.\n",
    "- 0.9 ou + → modelo excelente.\n",
    "\n",
    "OBS: Diferente de precisão/recall isolados, o ROC AUC olha para a performance global do modelo em diferentes limiares de decisão."
   ],
   "id": "a54e53f4df1d7203"
  },
  {
   "metadata": {},
   "cell_type": "markdown",
   "source": "### Visualizacao",
   "id": "16ef31f5af6368c2"
  },
  {
   "metadata": {
    "ExecuteTime": {
     "end_time": "2025-09-17T17:57:30.903943Z",
     "start_time": "2025-09-17T17:57:30.896321Z"
    }
   },
   "cell_type": "code",
   "source": [
    "import numpy as np\n",
    "#Retornando o modelo\n",
    "modelo = minha_pipe.named_steps['classifier']\n",
    "#Retornando o nome das listas resultantes do OneHot Encoder\n",
    "colunas_cat = list(minha_pipe.named_steps['preprocessor'].transformers_[1][1].get_feature_names_out(cat_cols))\n",
    "\n",
    "total_colunas = numeric_col + colunas_cat"
   ],
   "id": "3f399bf0cc631b1b",
   "outputs": [],
   "execution_count": 30
  },
  {
   "metadata": {
    "ExecuteTime": {
     "end_time": "2025-09-17T17:57:30.924782Z",
     "start_time": "2025-09-17T17:57:30.911937Z"
    }
   },
   "cell_type": "code",
   "source": [
    "#Importancia\n",
    "importancia = modelo.feature_importances_\n",
    "indices = np.argsort(importancia)[::-1] #indices das importancias do maior p/ menor"
   ],
   "id": "61d6f56376675dd5",
   "outputs": [],
   "execution_count": 31
  },
  {
   "metadata": {},
   "cell_type": "markdown",
   "source": "É quanto cada variável ajudou na redução de impureza, ou seja, quanto ajudou a separar os clientes que saem dos que ficam",
   "id": "d7cff99313d3f967"
  },
  {
   "metadata": {
    "ExecuteTime": {
     "end_time": "2025-09-17T17:57:31.130679Z",
     "start_time": "2025-09-17T17:57:30.931776Z"
    }
   },
   "cell_type": "code",
   "source": [
    "#Plotando\n",
    "plt.figure(figsize = (10,6))\n",
    "plt.title(\"Importância das Features\")\n",
    "plt.bar(range(10), importancia[indices[:10]], align='center')\n",
    "#substitui os ticks por nomes das features, rotacionados 45\n",
    "plt.xticks(range(10), [total_colunas[i] for i in indices[:10]], rotation=45)\n",
    "plt.show()"
   ],
   "id": "db39bfcf7be8b829",
   "outputs": [
    {
     "data": {
      "text/plain": [
       "<Figure size 1000x600 with 1 Axes>"
      ],
      "image/png": "[encoded data removed]"
     },
     "metadata": {},
     "output_type": "display_data"
    }
   ],
   "execution_count": 32
  },
  {
   "metadata": {},
   "cell_type": "markdown",
   "source": [
    "#### 📝 Conclusões\n",
    "\n",
    "- O dataset apresentou um leve desbalanceamento entre clientes que cancelaram e os que permaneceram.\n",
    "- Após o pré-processamento (tratamento de variáveis categóricas, padronização de numéricas e divisão em treino/validação), foram treinados os modelos de classificação.\n",
    "- O modelo final apresentou bom **recall** para identificar clientes que cancelam, o que é essencial para estratégias de retenção.\n",
    "- A **matriz de confusão** mostrou que a taxa de acertos foi satisfatória, com número aceitável de falsos positivos e falsos negativos.\n",
    "- A análise de **importância das variáveis** revelou que fatores como **contrato mensal**, **método de pagamento** e **tenure (tempo de permanência)** são os mais relevantes para prever o churn.\n"
   ],
   "id": "ddcf0fbc582a2971"
  }
 ],
 "metadata": {
  "kernelspec": {
   "display_name": "Python 3",
   "language": "python",
   "name": "python3"
  },
  "language_info": {
   "codemirror_mode": {
    "name": "ipython",
    "version": 2
   },
   "file_extension": ".py",
   "mimetype": "text/x-python",
   "name": "python",
   "nbconvert_exporter": "python",
   "pygments_lexer": "ipython2",
   "version": "2.7.6"
  }
 },
 "nbformat": 4,
 "nbformat_minor": 5
}
